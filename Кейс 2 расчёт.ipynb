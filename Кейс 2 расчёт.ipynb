{
 "cells": [
  {
   "cell_type": "code",
   "execution_count": 32,
   "id": "68384ea7",
   "metadata": {},
   "outputs": [],
   "source": [
    "import math\n",
    "import pandas as pd\n",
    "import matplotlib.pyplot as plt\n",
    "import numpy as np"
   ]
  },
  {
   "cell_type": "markdown",
   "id": "0ba24aab",
   "metadata": {},
   "source": [
    "### Результат без введения новых ПВЗ"
   ]
  },
  {
   "cell_type": "code",
   "execution_count": 23,
   "id": "3f5c20e3",
   "metadata": {},
   "outputs": [
    {
     "name": "stdout",
     "output_type": "stream",
     "text": [
      "Затраты на собственный транспорт: 5249.133333333333\n",
      "Затраты на наемный транспорт: 5900\n",
      "Целесообразнее использовать собственный транспорт.\n"
     ]
    }
   ],
   "source": [
    "# Вводные данные\n",
    "price_fuel = 50  # Цена бензина АИ - 92 в рублях\n",
    "repair_cost_per_km = 1.3  # Стоимость ремонта за км\n",
    "repair_cost_per_km_with_vat = repair_cost_per_km * 1.2  # Стоимость ремонта за км с добавлением НДС\n",
    "monthly_leasing_payment = 65000  # Ежемесячный платеж по лизингу\n",
    "leasing_month = 36 # Количество месяцев лизинга\n",
    "driver_salary = 40000  # Зарплата водителя на одну полную ставку\n",
    "outside_city_points = 2  # Количество новых точек доставки\n",
    "path_length = 55 # Длина маршрута \n",
    "\n",
    "# Расчет затрат на собственный транспорт\n",
    "fuel_cost_per_day = 12/100 * path_length * price_fuel  # Расходы на топливо в день\n",
    "repair_cost_per_day = repair_cost_per_km_with_vat * path_length  # Расходы на ремонт в день\n",
    "leasing_cost_per_day = monthly_leasing_payment / 30  # Расходы на лизинг в день\n",
    "driver_salary_per_day = 2 * (driver_salary / 30)  # Расходы на зарплату водителей в день\n",
    "total_cost_own_transport = fuel_cost_per_day + repair_cost_per_day + leasing_cost_per_day + driver_salary_per_day  # Общие затраты на собственный транспорт\n",
    "print(\"Затраты на собственный транспорт:\", total_cost_own_transport)\n",
    "\n",
    "# Расчет затрат на наемный транспорт\n",
    "delivery_cost_per_point = 500\n",
    "loading_unloading_cost_per_point = 200\n",
    "delivery_cost_outside_city_per_point = 1000\n",
    "loading_unloading_cost_outside_city_per_point = 200\n",
    "total_cost_hired_transport = (delivery_cost_per_point + loading_unloading_cost_per_point) * 5 + (delivery_cost_outside_city_per_point + loading_unloading_cost_outside_city_per_point) * outside_city_points  # Общие затраты на наемный транспорт\n",
    "print(\"Затраты на наемный транспорт:\", total_cost_hired_transport)\n",
    "\n",
    "# Сравнение общих затрат\n",
    "if total_cost_own_transport < total_cost_hired_transport:\n",
    "    print(\"Целесообразнее использовать собственный транспорт.\")\n",
    "else:\n",
    "    print(\"Целесообразнее использовать наемный транспорт.\")"
   ]
  },
  {
   "cell_type": "markdown",
   "id": "1183e7d3",
   "metadata": {},
   "source": [
    "### От Новосибирска до Искитима 58 км(далее считаем за 50), в связи с расширением внутригордского марштрута до этого города маршрут увеличится примерно на 100 км в связи с этим расчёт будет"
   ]
  },
  {
   "cell_type": "code",
   "execution_count": 24,
   "id": "60839bad",
   "metadata": {},
   "outputs": [
    {
     "name": "stdout",
     "output_type": "stream",
     "text": [
      "Затраты на собственный транспорт: 6005.133333333333\n",
      "Затраты на наемный транспорт: 5900\n",
      "Целесообразнее использовать наемный транспорт.\n"
     ]
    }
   ],
   "source": [
    "# Вводные данные\n",
    "price_fuel = 50  # Цена бензина АИ - 92 в рублях\n",
    "repair_cost_per_km = 1.3  # Стоимость ремонта за км\n",
    "repair_cost_per_km_with_vat = repair_cost_per_km * 1.2  # Стоимость ремонта за км с добавлением НДС\n",
    "monthly_leasing_payment = 65000  # Ежемесячный платеж по лизингу\n",
    "driver_salary = 40000  # Зарплата водителя на одну полную ставку\n",
    "outside_city_points = 2  # Количество новых точек доставки\n",
    "path_length = 155 # Длина маршрута \n",
    "\n",
    "# Расчет затрат на собственный транспорт\n",
    "fuel_cost_per_day = 12/100 * path_length * price_fuel  # Расходы на топливо в день\n",
    "repair_cost_per_day = repair_cost_per_km_with_vat * path_length  # Расходы на ремонт в день\n",
    "leasing_cost_per_day = monthly_leasing_payment / 30  # Расходы на лизинг в день\n",
    "driver_salary_per_day = 2 * (driver_salary / 30)  # Расходы на зарплату водителей в день\n",
    "total_cost_own_transport = fuel_cost_per_day + repair_cost_per_day + leasing_cost_per_day + driver_salary_per_day  # Общие затраты на собственный транспорт\n",
    "print(\"Затраты на собственный транспорт:\", total_cost_own_transport)\n",
    "\n",
    "# Расчет затрат на наемный транспорт\n",
    "delivery_cost_per_point = 500\n",
    "loading_unloading_cost_per_point = 200\n",
    "delivery_cost_outside_city_per_point = 1000\n",
    "loading_unloading_cost_outside_city_per_point = 200\n",
    "total_cost_hired_transport = (delivery_cost_per_point + loading_unloading_cost_per_point) * 5 + (delivery_cost_outside_city_per_point + loading_unloading_cost_outside_city_per_point) * outside_city_points  # Общие затраты на наемный транспорт\n",
    "print(\"Затраты на наемный транспорт:\", total_cost_hired_transport)\n",
    "\n",
    "# Сравнение общих затрат\n",
    "if total_cost_own_transport < total_cost_hired_transport:\n",
    "    print(\"Целесообразнее использовать собственный транспорт.\")\n",
    "else:\n",
    "    print(\"Целесообразнее использовать наемный транспорт.\")"
   ]
  },
  {
   "cell_type": "code",
   "execution_count": 25,
   "id": "1c53f8bf",
   "metadata": {},
   "outputs": [
    {
     "name": "stdout",
     "output_type": "stream",
     "text": [
      "Затраты на собственный транспорт: 3838.4666666666662\n",
      "Затраты на наемный транспорт: 5900\n",
      "Целесообразнее использовать собственный транспорт.\n"
     ]
    }
   ],
   "source": [
    "# Расчет затрат на собственный транспорт без утчёта лизинга\n",
    "total_cost_own_transport_without_leasing = fuel_cost_per_day + repair_cost_per_day + driver_salary_per_day  # Общие затраты на собственный транспорт\n",
    "print(\"Затраты на собственный транспорт:\", total_cost_own_transport_without_leasing)\n",
    "\n",
    "# Расчет затрат на наемный транспорт не изменятся\n",
    "print(\"Затраты на наемный транспорт:\", total_cost_hired_transport)\n",
    "\n",
    "# Сравнение общих затрат\n",
    "if total_cost_own_transport_without_leasing < total_cost_hired_transport:\n",
    "    print(\"Целесообразнее использовать собственный транспорт.\")\n",
    "else:\n",
    "    print(\"Целесообразнее использовать наемный транспорт.\")"
   ]
  },
  {
   "cell_type": "markdown",
   "id": "21087126",
   "metadata": {},
   "source": [
    "### Считаем через сколько дней станет выгоднее использовать собственный транспорт"
   ]
  },
  {
   "cell_type": "code",
   "execution_count": 28,
   "id": "265019c3",
   "metadata": {},
   "outputs": [
    {
     "name": "stdout",
     "output_type": "stream",
     "text": [
      "Общая выгода за ремя лизинга: 113543.99999999987\n"
     ]
    }
   ],
   "source": [
    "daily_differences_leasing = total_cost_own_transport - total_cost_hired_transport # Каждодневная разница в выгоде\n",
    "total_differences_leasing = daily_differences_leasing * 30 * leasing_month # Общая разница за время использования лизинга\n",
    "print(\"Общая выгода за ремя лизинга:\", total_differences_leasing)"
   ]
  },
  {
   "cell_type": "code",
   "execution_count": 38,
   "id": "ccf2c9c7",
   "metadata": {},
   "outputs": [
    {
     "name": "stdout",
     "output_type": "stream",
     "text": [
      "Количество дней после которого собственный транспорт окупится: 1136\n"
     ]
    }
   ],
   "source": [
    "own_transport_benefit_without_leasing = total_cost_hired_transport - total_cost_own_transport_without_leasing\n",
    "result = 30 * leasing_month + (total_differences_leasing / (own_transport_benefit_without_leasing))\n",
    "rounded_result = math.ceil(result)\n",
    "\n",
    "print(\"Количество дней после которого собственный транспорт окупится:\", rounded_result)"
   ]
  },
  {
   "cell_type": "code",
   "execution_count": 79,
   "id": "c3816535",
   "metadata": {},
   "outputs": [
    {
     "name": "stdout",
     "output_type": "stream",
     "text": [
      "      Month  Day  Daily_Differences_Leasing  Cumulative_Total\n",
      "0         1    1                 105.133333        105.133333\n",
      "1         1    2                 105.133333        210.266667\n",
      "2         1    3                 105.133333        315.400000\n",
      "3         1    4                 105.133333        420.533333\n",
      "4         1    5                 105.133333        525.666667\n",
      "...     ...  ...                        ...               ...\n",
      "1255     42   26               -2061.533333    -249285.866667\n",
      "1256     42   27               -2061.533333    -251347.400000\n",
      "1257     42   28               -2061.533333    -253408.933333\n",
      "1258     42   29               -2061.533333    -255470.466667\n",
      "1259     42   30               -2061.533333    -257532.000000\n",
      "\n",
      "[1260 rows x 4 columns]\n"
     ]
    }
   ],
   "source": [
    "days_in_month = 30\n",
    "months = 36\n",
    "\n",
    "# Создаем список значений для каждого дня\n",
    "values = [daily_differences_leasing] * (days_in_month * months)\n",
    "\n",
    "# Создаем DataFrame\n",
    "df = pd.DataFrame({'Month': [month for month in range(1, months + 1) for _ in range(1, days_in_month + 1)],\n",
    "                   'Day': [day for _ in range(1, months + 1) for day in range(1, days_in_month + 1)],\n",
    "                   'Daily_Differences_Leasing': values})\n",
    "\n",
    "# Добавляем столбец с накопительным итогом\n",
    "df['Cumulative_Total'] = df['Daily_Differences_Leasing'].cumsum()\n",
    "\n",
    "# Добавляем ещё данные с другим значением Daily_Differences_Leasing\n",
    "days_in_month = 30\n",
    "months = 6\n",
    "\n",
    "# Создаем список значений для каждого дня\n",
    "new_values = [new_daily_differences_leasing] * (days_in_month * months)\n",
    "\n",
    "# Создаем DataFrame для новых данных\n",
    "new_data = pd.DataFrame({'Month': [month for month in range(37, 37 + months) for _ in range(1, days_in_month + 1)],\n",
    "                         'Day': [day for _ in range(1, months + 1) for day in range(1, days_in_month + 1)],\n",
    "                         'Daily_Differences_Leasing': new_values})\n",
    "\n",
    "# Добавляем новые данные к существующему DataFrame\n",
    "df = pd.concat([df, new_data]).reset_index(drop=True)\n",
    "\n",
    "# Обновляем столбец с накопительным итогом\n",
    "df['Cumulative_Total'] = df['Daily_Differences_Leasing'].cumsum()\n",
    "\n",
    "# Выводим первые несколько строк обновленного DataFrame\n",
    "print(df)"
   ]
  },
  {
   "cell_type": "code",
   "execution_count": 89,
   "id": "f1576eaf",
   "metadata": {},
   "outputs": [
    {
     "data": {
      "image/png": "[encoded data removed]",
      "text/plain": [
       "<Figure size 1200x600 with 1 Axes>"
      ]
     },
     "metadata": {},
     "output_type": "display_data"
    }
   ],
   "source": [
    "plt.figure(figsize=(12, 6))\n",
    "plt.plot(df['Month'] + df['Day']/30, df['Cumulative_Total'], label='Выгода наёмного транспорта')\n",
    "plt.xlabel('Месяц')\n",
    "plt.title('Выгода наёмного транспорта')\n",
    "plt.legend()\n",
    "plt.grid(True)\n",
    "plt.show()"
   ]
  }
 ],
 "metadata": {
  "kernelspec": {
   "display_name": "Python 3 (ipykernel)",
   "language": "python",
   "name": "python3"
  },
  "language_info": {
   "codemirror_mode": {
    "name": "ipython",
    "version": 3
   },
   "file_extension": ".py",
   "mimetype": "text/x-python",
   "name": "python",
   "nbconvert_exporter": "python",
   "pygments_lexer": "ipython3",
   "version": "3.11.4"
  }
 },
 "nbformat": 4,
 "nbformat_minor": 5
}
